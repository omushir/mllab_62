{
 "cells": [
  {
   "cell_type": "code",
   "execution_count": 2,
   "metadata": {},
   "outputs": [],
   "source": [
    "# Import necessary libraries\n",
    "from sklearn.naive_bayes import GaussianNB #Gaussian Naive Bayes classifier from the Scikit-Learn library\n",
    "from sklearn.model_selection import train_test_split #imports the train_test_split function from Scikit-Learn\n",
    "\n",
    "import numpy as np # linear algebra\n",
    "import pandas as pd # data processing, CSV file I/O (e.g. pd.read_csv)\n",
    "\n",
    "# Input data files are available in the read-only \"../input/\" directory\n",
    "# For example, running this (by clicking run or pressing Shift+Enter) will list all files under the input directory\n",
    "\n",
    "import os\n",
    "for dirname, _, filenames in os.walk('/kaggle/input'):\n",
    "    for filename in filenames:\n",
    "        print(os.path.join(dirname, filename))"
   ]
  },
  {
   "cell_type": "code",
   "execution_count": 6,
   "metadata": {},
   "outputs": [
    {
     "data": {
      "text/html": [
       "<div>\n",
       "<style scoped>\n",
       "    .dataframe tbody tr th:only-of-type {\n",
       "        vertical-align: middle;\n",
       "    }\n",
       "\n",
       "    .dataframe tbody tr th {\n",
       "        vertical-align: top;\n",
       "    }\n",
       "\n",
       "    .dataframe thead th {\n",
       "        text-align: right;\n",
       "    }\n",
       "</style>\n",
       "<table border=\"1\" class=\"dataframe\">\n",
       "  <thead>\n",
       "    <tr style=\"text-align: right;\">\n",
       "      <th></th>\n",
       "      <th>sex</th>\n",
       "      <th>age</th>\n",
       "      <th>income</th>\n",
       "      <th>insurance</th>\n",
       "      <th>illness</th>\n",
       "      <th>actdays</th>\n",
       "      <th>hscore</th>\n",
       "      <th>chcond</th>\n",
       "      <th>doctorco</th>\n",
       "      <th>nondocco</th>\n",
       "      <th>hospadmi</th>\n",
       "      <th>hospdays</th>\n",
       "      <th>medecine</th>\n",
       "      <th>prescrib</th>\n",
       "      <th>nonpresc</th>\n",
       "    </tr>\n",
       "  </thead>\n",
       "  <tbody>\n",
       "    <tr>\n",
       "      <th>0</th>\n",
       "      <td>1</td>\n",
       "      <td>0.19</td>\n",
       "      <td>0.55</td>\n",
       "      <td>levyplus</td>\n",
       "      <td>1</td>\n",
       "      <td>4</td>\n",
       "      <td>1</td>\n",
       "      <td>np</td>\n",
       "      <td>1</td>\n",
       "      <td>0</td>\n",
       "      <td>0</td>\n",
       "      <td>0</td>\n",
       "      <td>1</td>\n",
       "      <td>1</td>\n",
       "      <td>0</td>\n",
       "    </tr>\n",
       "    <tr>\n",
       "      <th>1</th>\n",
       "      <td>1</td>\n",
       "      <td>0.19</td>\n",
       "      <td>0.45</td>\n",
       "      <td>levyplus</td>\n",
       "      <td>1</td>\n",
       "      <td>2</td>\n",
       "      <td>1</td>\n",
       "      <td>np</td>\n",
       "      <td>1</td>\n",
       "      <td>0</td>\n",
       "      <td>0</td>\n",
       "      <td>0</td>\n",
       "      <td>2</td>\n",
       "      <td>1</td>\n",
       "      <td>1</td>\n",
       "    </tr>\n",
       "    <tr>\n",
       "      <th>2</th>\n",
       "      <td>0</td>\n",
       "      <td>0.19</td>\n",
       "      <td>0.90</td>\n",
       "      <td>medlevy</td>\n",
       "      <td>3</td>\n",
       "      <td>0</td>\n",
       "      <td>0</td>\n",
       "      <td>np</td>\n",
       "      <td>1</td>\n",
       "      <td>0</td>\n",
       "      <td>1</td>\n",
       "      <td>4</td>\n",
       "      <td>2</td>\n",
       "      <td>1</td>\n",
       "      <td>1</td>\n",
       "    </tr>\n",
       "    <tr>\n",
       "      <th>3</th>\n",
       "      <td>0</td>\n",
       "      <td>0.19</td>\n",
       "      <td>0.15</td>\n",
       "      <td>medlevy</td>\n",
       "      <td>1</td>\n",
       "      <td>0</td>\n",
       "      <td>0</td>\n",
       "      <td>np</td>\n",
       "      <td>1</td>\n",
       "      <td>0</td>\n",
       "      <td>0</td>\n",
       "      <td>0</td>\n",
       "      <td>0</td>\n",
       "      <td>0</td>\n",
       "      <td>0</td>\n",
       "    </tr>\n",
       "    <tr>\n",
       "      <th>4</th>\n",
       "      <td>0</td>\n",
       "      <td>0.19</td>\n",
       "      <td>0.45</td>\n",
       "      <td>medlevy</td>\n",
       "      <td>2</td>\n",
       "      <td>5</td>\n",
       "      <td>1</td>\n",
       "      <td>la</td>\n",
       "      <td>1</td>\n",
       "      <td>0</td>\n",
       "      <td>0</td>\n",
       "      <td>0</td>\n",
       "      <td>3</td>\n",
       "      <td>1</td>\n",
       "      <td>2</td>\n",
       "    </tr>\n",
       "    <tr>\n",
       "      <th>...</th>\n",
       "      <td>...</td>\n",
       "      <td>...</td>\n",
       "      <td>...</td>\n",
       "      <td>...</td>\n",
       "      <td>...</td>\n",
       "      <td>...</td>\n",
       "      <td>...</td>\n",
       "      <td>...</td>\n",
       "      <td>...</td>\n",
       "      <td>...</td>\n",
       "      <td>...</td>\n",
       "      <td>...</td>\n",
       "      <td>...</td>\n",
       "      <td>...</td>\n",
       "      <td>...</td>\n",
       "    </tr>\n",
       "    <tr>\n",
       "      <th>5185</th>\n",
       "      <td>1</td>\n",
       "      <td>0.22</td>\n",
       "      <td>0.55</td>\n",
       "      <td>medlevy</td>\n",
       "      <td>0</td>\n",
       "      <td>0</td>\n",
       "      <td>0</td>\n",
       "      <td>np</td>\n",
       "      <td>0</td>\n",
       "      <td>0</td>\n",
       "      <td>0</td>\n",
       "      <td>0</td>\n",
       "      <td>0</td>\n",
       "      <td>0</td>\n",
       "      <td>0</td>\n",
       "    </tr>\n",
       "    <tr>\n",
       "      <th>5186</th>\n",
       "      <td>0</td>\n",
       "      <td>0.27</td>\n",
       "      <td>1.30</td>\n",
       "      <td>medlevy</td>\n",
       "      <td>0</td>\n",
       "      <td>0</td>\n",
       "      <td>1</td>\n",
       "      <td>np</td>\n",
       "      <td>0</td>\n",
       "      <td>0</td>\n",
       "      <td>0</td>\n",
       "      <td>0</td>\n",
       "      <td>3</td>\n",
       "      <td>0</td>\n",
       "      <td>3</td>\n",
       "    </tr>\n",
       "    <tr>\n",
       "      <th>5187</th>\n",
       "      <td>1</td>\n",
       "      <td>0.37</td>\n",
       "      <td>0.25</td>\n",
       "      <td>freerepa</td>\n",
       "      <td>1</td>\n",
       "      <td>0</td>\n",
       "      <td>1</td>\n",
       "      <td>np</td>\n",
       "      <td>0</td>\n",
       "      <td>0</td>\n",
       "      <td>0</td>\n",
       "      <td>0</td>\n",
       "      <td>0</td>\n",
       "      <td>0</td>\n",
       "      <td>0</td>\n",
       "    </tr>\n",
       "    <tr>\n",
       "      <th>5188</th>\n",
       "      <td>1</td>\n",
       "      <td>0.52</td>\n",
       "      <td>0.65</td>\n",
       "      <td>medlevy</td>\n",
       "      <td>0</td>\n",
       "      <td>0</td>\n",
       "      <td>0</td>\n",
       "      <td>np</td>\n",
       "      <td>0</td>\n",
       "      <td>0</td>\n",
       "      <td>0</td>\n",
       "      <td>0</td>\n",
       "      <td>0</td>\n",
       "      <td>0</td>\n",
       "      <td>0</td>\n",
       "    </tr>\n",
       "    <tr>\n",
       "      <th>5189</th>\n",
       "      <td>0</td>\n",
       "      <td>0.72</td>\n",
       "      <td>0.25</td>\n",
       "      <td>freerepa</td>\n",
       "      <td>0</td>\n",
       "      <td>0</td>\n",
       "      <td>0</td>\n",
       "      <td>np</td>\n",
       "      <td>0</td>\n",
       "      <td>0</td>\n",
       "      <td>0</td>\n",
       "      <td>0</td>\n",
       "      <td>0</td>\n",
       "      <td>0</td>\n",
       "      <td>0</td>\n",
       "    </tr>\n",
       "  </tbody>\n",
       "</table>\n",
       "<p>5190 rows × 15 columns</p>\n",
       "</div>"
      ],
      "text/plain": [
       "      sex   age  income insurance  illness  actdays  hscore chcond  doctorco  \\\n",
       "0       1  0.19    0.55  levyplus        1        4       1     np         1   \n",
       "1       1  0.19    0.45  levyplus        1        2       1     np         1   \n",
       "2       0  0.19    0.90   medlevy        3        0       0     np         1   \n",
       "3       0  0.19    0.15   medlevy        1        0       0     np         1   \n",
       "4       0  0.19    0.45   medlevy        2        5       1     la         1   \n",
       "...   ...   ...     ...       ...      ...      ...     ...    ...       ...   \n",
       "5185    1  0.22    0.55   medlevy        0        0       0     np         0   \n",
       "5186    0  0.27    1.30   medlevy        0        0       1     np         0   \n",
       "5187    1  0.37    0.25  freerepa        1        0       1     np         0   \n",
       "5188    1  0.52    0.65   medlevy        0        0       0     np         0   \n",
       "5189    0  0.72    0.25  freerepa        0        0       0     np         0   \n",
       "\n",
       "      nondocco  hospadmi  hospdays  medecine  prescrib  nonpresc  \n",
       "0            0         0         0         1         1         0  \n",
       "1            0         0         0         2         1         1  \n",
       "2            0         1         4         2         1         1  \n",
       "3            0         0         0         0         0         0  \n",
       "4            0         0         0         3         1         2  \n",
       "...        ...       ...       ...       ...       ...       ...  \n",
       "5185         0         0         0         0         0         0  \n",
       "5186         0         0         0         3         0         3  \n",
       "5187         0         0         0         0         0         0  \n",
       "5188         0         0         0         0         0         0  \n",
       "5189         0         0         0         0         0         0  \n",
       "\n",
       "[5190 rows x 15 columns]"
      ]
     },
     "execution_count": 6,
     "metadata": {},
     "output_type": "execute_result"
    }
   ],
   "source": [
    "df = pd.read_csv(\"/Users/ommukundushir/mllab_62/assignment_4/DoctorAUS.csv\")\n",
    "df"
   ]
  },
  {
   "cell_type": "code",
   "execution_count": 8,
   "metadata": {},
   "outputs": [
    {
     "data": {
      "text/plain": [
       "sex          0\n",
       "age          0\n",
       "income       0\n",
       "insurance    0\n",
       "illness      0\n",
       "actdays      0\n",
       "hscore       0\n",
       "chcond       0\n",
       "doctorco     0\n",
       "nondocco     0\n",
       "hospadmi     0\n",
       "hospdays     0\n",
       "medecine     0\n",
       "prescrib     0\n",
       "nonpresc     0\n",
       "dtype: int64"
      ]
     },
     "execution_count": 8,
     "metadata": {},
     "output_type": "execute_result"
    }
   ],
   "source": [
    "df.isnull().sum()\n"
   ]
  },
  {
   "cell_type": "code",
   "execution_count": 11,
   "metadata": {},
   "outputs": [],
   "source": [
    "X = df[['age', 'income', 'sex', 'illness', 'actdays', 'hscore', 'doctorco', 'nondocco', 'hospadmi', 'hospdays', 'medecine', 'prescrib']]\n",
    "y = df['insurance']"
   ]
  },
  {
   "cell_type": "code",
   "execution_count": 14,
   "metadata": {},
   "outputs": [],
   "source": [
    "X_train, X_test, y_train, y_test = train_test_split(X, y, test_size=0.3, random_state=0)"
   ]
  },
  {
   "cell_type": "code",
   "execution_count": 16,
   "metadata": {},
   "outputs": [],
   "source": [
    "clf = GaussianNB()"
   ]
  },
  {
   "cell_type": "code",
   "execution_count": 18,
   "metadata": {},
   "outputs": [
    {
     "data": {
      "text/plain": [
       "GaussianNB()"
      ]
     },
     "execution_count": 18,
     "metadata": {},
     "output_type": "execute_result"
    }
   ],
   "source": [
    "clf.fit(X_train, y_train)"
   ]
  },
  {
   "cell_type": "code",
   "execution_count": 20,
   "metadata": {},
   "outputs": [
    {
     "data": {
      "text/plain": [
       "GaussianNB()"
      ]
     },
     "execution_count": 20,
     "metadata": {},
     "output_type": "execute_result"
    }
   ],
   "source": [
    "clf.fit(X_train, y_train)"
   ]
  },
  {
   "cell_type": "code",
   "execution_count": 22,
   "metadata": {},
   "outputs": [],
   "source": [
    "y_pred = clf.predict(X_test)"
   ]
  },
  {
   "cell_type": "code",
   "execution_count": 24,
   "metadata": {},
   "outputs": [
    {
     "name": "stdout",
     "output_type": "stream",
     "text": [
      "              precision    recall  f1-score   support\n",
      "\n",
      "     freepor       0.29      0.12      0.16        69\n",
      "    freerepa       0.63      0.52      0.57       321\n",
      "    levyplus       0.50      0.31      0.39       670\n",
      "     medlevy       0.48      0.81      0.60       497\n",
      "\n",
      "    accuracy                           0.51      1557\n",
      "   macro avg       0.47      0.44      0.43      1557\n",
      "weighted avg       0.51      0.51      0.48      1557\n",
      "\n"
     ]
    }
   ],
   "source": [
    "from sklearn.metrics import classification_report\n",
    "# Evaluate the model's performance using a classification report\n",
    "print(classification_report(y_test, y_pred))"
   ]
  },
  {
   "cell_type": "code",
   "execution_count": 27,
   "metadata": {},
   "outputs": [],
   "source": [
    "import seaborn as sns\n",
    "import pandas as pd\n",
    "import matplotlib.pyplot as plt\n",
    "\n",
    "# Load the data\n",
    "data = pd.read_csv(\"/Users/ommukundushir/mllab_62/assignment_4/DoctorAUS.csv\")"
   ]
  },
  {
   "cell_type": "code",
   "execution_count": 29,
   "metadata": {},
   "outputs": [
    {
     "data": {
      "text/plain": [
       "sex            int64\n",
       "age          float64\n",
       "income       float64\n",
       "insurance     object\n",
       "illness        int64\n",
       "actdays        int64\n",
       "hscore         int64\n",
       "chcond        object\n",
       "doctorco       int64\n",
       "nondocco       int64\n",
       "hospadmi       int64\n",
       "hospdays       int64\n",
       "medecine       int64\n",
       "prescrib       int64\n",
       "nonpresc       int64\n",
       "dtype: object"
      ]
     },
     "execution_count": 29,
     "metadata": {},
     "output_type": "execute_result"
    }
   ],
   "source": [
    "data.dtypes"
   ]
  },
  {
   "cell_type": "code",
   "execution_count": 31,
   "metadata": {},
   "outputs": [
    {
     "data": {
      "text/plain": [
       "<bound method NDFrame.describe of       sex   age  income insurance  illness  actdays  hscore chcond  doctorco  \\\n",
       "0       1  0.19    0.55  levyplus        1        4       1     np         1   \n",
       "1       1  0.19    0.45  levyplus        1        2       1     np         1   \n",
       "2       0  0.19    0.90   medlevy        3        0       0     np         1   \n",
       "3       0  0.19    0.15   medlevy        1        0       0     np         1   \n",
       "4       0  0.19    0.45   medlevy        2        5       1     la         1   \n",
       "...   ...   ...     ...       ...      ...      ...     ...    ...       ...   \n",
       "5185    1  0.22    0.55   medlevy        0        0       0     np         0   \n",
       "5186    0  0.27    1.30   medlevy        0        0       1     np         0   \n",
       "5187    1  0.37    0.25  freerepa        1        0       1     np         0   \n",
       "5188    1  0.52    0.65   medlevy        0        0       0     np         0   \n",
       "5189    0  0.72    0.25  freerepa        0        0       0     np         0   \n",
       "\n",
       "      nondocco  hospadmi  hospdays  medecine  prescrib  nonpresc  \n",
       "0            0         0         0         1         1         0  \n",
       "1            0         0         0         2         1         1  \n",
       "2            0         1         4         2         1         1  \n",
       "3            0         0         0         0         0         0  \n",
       "4            0         0         0         3         1         2  \n",
       "...        ...       ...       ...       ...       ...       ...  \n",
       "5185         0         0         0         0         0         0  \n",
       "5186         0         0         0         3         0         3  \n",
       "5187         0         0         0         0         0         0  \n",
       "5188         0         0         0         0         0         0  \n",
       "5189         0         0         0         0         0         0  \n",
       "\n",
       "[5190 rows x 15 columns]>"
      ]
     },
     "execution_count": 31,
     "metadata": {},
     "output_type": "execute_result"
    }
   ],
   "source": [
    "data.describe"
   ]
  },
  {
   "cell_type": "code",
   "execution_count": null,
   "metadata": {},
   "outputs": [
    {
     "name": "stdout",
     "output_type": "stream",
     "text": [
      "Number of individuals with each insurance type:\n",
      "insurance\n",
      "freepor      222\n",
      "freerepa    1091\n",
      "levyplus    2298\n",
      "medlevy     1579\n",
      "dtype: int64\n",
      "\n",
      "Average age for each insurance type:\n",
      "insurance\n",
      "freepor     0.249910\n",
      "freerepa    0.646434\n",
      "levyplus    0.393268\n",
      "medlevy     0.281615\n",
      "Name: age, dtype: float64\n"
     ]
    }
   ],
   "source": [
    "# Group data by insurance type\n",
    "grouped_data = data.groupby(\"insurance\")\n",
    "\n",
    "# 1. Number of individuals with each insurance type\n",
    "\n",
    "# Count the number of individuals in each group\n",
    "n_individuals_per_insurance = grouped_data.size()\n",
    "\n",
    "# Print the results\n",
    "print(\"Number of individuals with each insurance type:\")\n",
    "print(n_individuals_per_insurance)\n",
    "\n",
    "# 2. Average age for each insurance type\n",
    "\n",
    "# Calculate the average age for each group\n",
    "avg_age_per_insurance = grouped_data[\"age\"].mean()\n",
    "\n",
    "# Print the results\n",
    "print(\"\\nAverage age for each insurance type:\")\n",
    "print(avg_age_per_insurance)"
   ]
  },
  {
   "cell_type": "code",
   "execution_count": 1,
   "metadata": {},
   "outputs": [
    {
     "ename": "NameError",
     "evalue": "name 'plt' is not defined",
     "output_type": "error",
     "traceback": [
      "\u001b[0;31m---------------------------------------------------------------------------\u001b[0m",
      "\u001b[0;31mNameError\u001b[0m                                 Traceback (most recent call last)",
      "\u001b[0;32m/var/folders/ln/s7sz8t4x7xsdcd087c6x5gv00000gn/T/ipykernel_4576/4207966244.py\u001b[0m in \u001b[0;36m<module>\u001b[0;34m\u001b[0m\n\u001b[1;32m      1\u001b[0m \u001b[0;31m# Bar chart for number of individuals\u001b[0m\u001b[0;34m\u001b[0m\u001b[0;34m\u001b[0m\u001b[0m\n\u001b[0;32m----> 2\u001b[0;31m \u001b[0mplt\u001b[0m\u001b[0;34m.\u001b[0m\u001b[0mfigure\u001b[0m\u001b[0;34m(\u001b[0m\u001b[0mfigsize\u001b[0m\u001b[0;34m=\u001b[0m\u001b[0;34m(\u001b[0m\u001b[0;36m8\u001b[0m\u001b[0;34m,\u001b[0m \u001b[0;36m6\u001b[0m\u001b[0;34m)\u001b[0m\u001b[0;34m)\u001b[0m\u001b[0;34m\u001b[0m\u001b[0;34m\u001b[0m\u001b[0m\n\u001b[0m\u001b[1;32m      3\u001b[0m \u001b[0mn_individuals_per_insurance\u001b[0m\u001b[0;34m.\u001b[0m\u001b[0mplot\u001b[0m\u001b[0;34m(\u001b[0m\u001b[0mkind\u001b[0m\u001b[0;34m=\u001b[0m\u001b[0;34m\"bar\"\u001b[0m\u001b[0;34m,\u001b[0m \u001b[0mcolor\u001b[0m\u001b[0;34m=\u001b[0m\u001b[0;34m\"blue\"\u001b[0m\u001b[0;34m,\u001b[0m \u001b[0malpha\u001b[0m\u001b[0;34m=\u001b[0m\u001b[0;36m0.7\u001b[0m\u001b[0;34m)\u001b[0m\u001b[0;34m\u001b[0m\u001b[0;34m\u001b[0m\u001b[0m\n\u001b[1;32m      4\u001b[0m \u001b[0mplt\u001b[0m\u001b[0;34m.\u001b[0m\u001b[0mxlabel\u001b[0m\u001b[0;34m(\u001b[0m\u001b[0;34m\"Insurance Type\"\u001b[0m\u001b[0;34m)\u001b[0m\u001b[0;34m\u001b[0m\u001b[0;34m\u001b[0m\u001b[0m\n\u001b[1;32m      5\u001b[0m \u001b[0mplt\u001b[0m\u001b[0;34m.\u001b[0m\u001b[0mylabel\u001b[0m\u001b[0;34m(\u001b[0m\u001b[0;34m\"Number of Individuals\"\u001b[0m\u001b[0;34m)\u001b[0m\u001b[0;34m\u001b[0m\u001b[0;34m\u001b[0m\u001b[0m\n",
      "\u001b[0;31mNameError\u001b[0m: name 'plt' is not defined"
     ]
    }
   ],
   "source": [
    "# Bar chart for number of individuals\n",
    "plt.figure(figsize=(8, 6))\n",
    "n_individuals_per_insurance.plot(kind=\"bar\", color=\"blue\", alpha=0.7)\n",
    "plt.xlabel(\"Insurance Type\")\n",
    "plt.ylabel(\"Number of Individuals\")\n",
    "plt.title(\"Number of Individuals by Insurance Type\")\n",
    "plt.xticks(rotation=45)  # Rotate x-axis labels for better readability\n",
    "plt.show()\n",
    "\n",
    "# Box plot for age distribution\n",
    "sns.boxplot(\n",
    "    x = \"insurance\",\n",
    "    y = \"age\",\n",
    "    showmeans=True,\n",
    "    data=df\n",
    ")\n",
    "plt.title(\"Age Distribution Across Insurance Types\")\n",
    "plt.xticks(rotation=45)  # Rotate x-axis labels for better readability\n",
    "plt.show()"
   ]
  },
  {
   "cell_type": "code",
   "execution_count": 2,
   "metadata": {},
   "outputs": [
    {
     "ename": "NameError",
     "evalue": "name 'plt' is not defined",
     "output_type": "error",
     "traceback": [
      "\u001b[0;31m---------------------------------------------------------------------------\u001b[0m",
      "\u001b[0;31mNameError\u001b[0m                                 Traceback (most recent call last)",
      "\u001b[0;32m/var/folders/ln/s7sz8t4x7xsdcd087c6x5gv00000gn/T/ipykernel_4576/2538633493.py\u001b[0m in \u001b[0;36m<module>\u001b[0;34m\u001b[0m\n\u001b[1;32m      1\u001b[0m \u001b[0;31m# Create a scatter plot for age vs. income\u001b[0m\u001b[0;34m\u001b[0m\u001b[0;34m\u001b[0m\u001b[0m\n\u001b[1;32m      2\u001b[0m \u001b[0;34m\u001b[0m\u001b[0m\n\u001b[0;32m----> 3\u001b[0;31m \u001b[0mplt\u001b[0m\u001b[0;34m.\u001b[0m\u001b[0mfigure\u001b[0m\u001b[0;34m(\u001b[0m\u001b[0mfigsize\u001b[0m\u001b[0;34m=\u001b[0m\u001b[0;34m(\u001b[0m\u001b[0;36m8\u001b[0m\u001b[0;34m,\u001b[0m \u001b[0;36m6\u001b[0m\u001b[0;34m)\u001b[0m\u001b[0;34m)\u001b[0m\u001b[0;34m\u001b[0m\u001b[0;34m\u001b[0m\u001b[0m\n\u001b[0m\u001b[1;32m      4\u001b[0m \u001b[0mplt\u001b[0m\u001b[0;34m.\u001b[0m\u001b[0mscatter\u001b[0m\u001b[0;34m(\u001b[0m\u001b[0mdf\u001b[0m\u001b[0;34m[\u001b[0m\u001b[0;34m\"age\"\u001b[0m\u001b[0;34m]\u001b[0m\u001b[0;34m,\u001b[0m \u001b[0mdf\u001b[0m\u001b[0;34m[\u001b[0m\u001b[0;34m\"income\"\u001b[0m\u001b[0;34m]\u001b[0m\u001b[0;34m,\u001b[0m \u001b[0mcolor\u001b[0m\u001b[0;34m=\u001b[0m\u001b[0;34m\"blue\"\u001b[0m\u001b[0;34m,\u001b[0m \u001b[0malpha\u001b[0m\u001b[0;34m=\u001b[0m\u001b[0;36m0.7\u001b[0m\u001b[0;34m)\u001b[0m\u001b[0;34m\u001b[0m\u001b[0;34m\u001b[0m\u001b[0m\n\u001b[1;32m      5\u001b[0m \u001b[0mplt\u001b[0m\u001b[0;34m.\u001b[0m\u001b[0mxlabel\u001b[0m\u001b[0;34m(\u001b[0m\u001b[0;34m\"Age\"\u001b[0m\u001b[0;34m)\u001b[0m\u001b[0;34m\u001b[0m\u001b[0;34m\u001b[0m\u001b[0m\n",
      "\u001b[0;31mNameError\u001b[0m: name 'plt' is not defined"
     ]
    }
   ],
   "source": [
    "# Create a scatter plot for age vs. income\n",
    "\n",
    "plt.figure(figsize=(8, 6))\n",
    "plt.scatter(df[\"age\"], df[\"income\"], color=\"blue\", alpha=0.7)\n",
    "plt.xlabel(\"Age\")\n",
    "plt.ylabel(\"Income (in tens of thousands of dollars)\")\n",
    "plt.title(\"Relationship Between Age and Income\")\n",
    "plt.grid(True)\n",
    "plt.show()"
   ]
  },
  {
   "cell_type": "code",
   "execution_count": 39,
   "metadata": {},
   "outputs": [
    {
     "data": {
      "image/png": "[encoded data removed]",
      "text/plain": [
       "<Figure size 576x432 with 1 Axes>"
      ]
     },
     "metadata": {
      "needs_background": "light"
     },
     "output_type": "display_data"
    }
   ],
   "source": [
    "# Create a scatter plot for illness vs. actdays (replace as needed)\n",
    "plt.figure(figsize=(8, 6))\n",
    "plt.scatter(df[\"illness\"], df[\"actdays\"], color=\"green\", alpha=0.7)\n",
    "plt.xlabel(\"Number of Illnesses\")\n",
    "plt.ylabel(\"Number of Activity Days Reduced\")\n",
    "plt.title(\"Relationship Between Illness and Activity Reduction\")\n",
    "plt.grid(True)\n",
    "plt.show()"
   ]
  },
  {
   "cell_type": "code",
   "execution_count": 41,
   "metadata": {},
   "outputs": [
    {
     "data": {
      "image/png": "[encoded data removed]",
      "text/plain": [
       "<Figure size 432x288 with 1 Axes>"
      ]
     },
     "metadata": {
      "needs_background": "light"
     },
     "output_type": "display_data"
    }
   ],
   "source": [
    "# Create a box plot for hscore distribution across insurance types\n",
    "sns.boxplot(\n",
    "    x = \"insurance\",\n",
    "    y = \"hscore\",\n",
    "    showmeans=True,\n",
    "    data=df\n",
    ")\n",
    "plt.title(\"Hscore Distribution Across Insurance Types\")\n",
    "plt.show()"
   ]
  },
  {
   "cell_type": "code",
   "execution_count": 43,
   "metadata": {},
   "outputs": [
    {
     "data": {
      "image/png": "[encoded data removed]",
      "text/plain": [
       "<Figure size 432x288 with 1 Axes>"
      ]
     },
     "metadata": {
      "needs_background": "light"
     },
     "output_type": "display_data"
    }
   ],
   "source": [
    " #1. Chronic conditions (chcond) distribution across age groups\n",
    "\n",
    "# Create a cross-tabulation table\n",
    "chcond_age_counts = pd.crosstab(df[\"chcond\"], df[\"age\"])\n",
    "\n",
    "# Visualize the distribution using a bar chart\n",
    "chcond_age_counts.plot(kind=\"bar\", stacked=True)\n",
    "plt.xlabel(\"Age Group\")\n",
    "plt.ylabel(\"Number of Individuals\")\n",
    "plt.title(\"Distribution of Chronic Conditions Across Age Groups\")\n",
    "plt.legend(title=\"Chronic Condition\")\n",
    "plt.xticks(rotation=0)  # Rotate x-axis labels for better readability\n",
    "plt.show()"
   ]
  },
  {
   "cell_type": "code",
   "execution_count": 45,
   "metadata": {},
   "outputs": [
    {
     "name": "stdout",
     "output_type": "stream",
     "text": [
      "Proportion of population using non-prescribed medications: 35.57%\n"
     ]
    }
   ],
   "source": [
    "# 3. Proportion of population using non-prescribed medications (nonpresc)\n",
    "\n",
    "# Calculate the proportion\n",
    "prop_nonpresc_users = data[\"nonpresc\"].sum() / len(df)\n",
    "\n",
    "# Print the proportion\n",
    "print(f\"Proportion of population using non-prescribed medications: {prop_nonpresc_users:.2%}\")"
   ]
  },
  {
   "cell_type": "code",
   "execution_count": 46,
   "metadata": {},
   "outputs": [
    {
     "name": "stdout",
     "output_type": "stream",
     "text": [
      "Proportion of population using non-prescribed medications: 30.17%\n"
     ]
    }
   ],
   "source": [
    "# 3. Proportion of population using non-prescribed medications (nonpresc)\n",
    "\n",
    "# Calculate the proportion\n",
    "prop_nonpresc_users = df[\"doctorco\"].sum() / len(df)\n",
    "\n",
    "# Print the proportion\n",
    "print(f\"Proportion of population using non-prescribed medications: {prop_nonpresc_users:.2%}\")"
   ]
  }
 ],
 "metadata": {
  "kernelspec": {
   "display_name": "base",
   "language": "python",
   "name": "python3"
  },
  "language_info": {
   "codemirror_mode": {
    "name": "ipython",
    "version": 3
   },
   "file_extension": ".py",
   "mimetype": "text/x-python",
   "name": "python",
   "nbconvert_exporter": "python",
   "pygments_lexer": "ipython3",
   "version": "3.9.7"
  }
 },
 "nbformat": 4,
 "nbformat_minor": 2
}
