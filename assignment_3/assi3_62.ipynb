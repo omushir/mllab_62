{
 "cells": [
  {
   "cell_type": "code",
   "execution_count": 2,
   "metadata": {},
   "outputs": [],
   "source": [
    "import warnings\n",
    "warnings.filterwarnings(\"ignore\")\n",
    "import numpy as np # linear algebra\n",
    "import pandas as pd # data processing, CSV file I/O (e.g. pd.read_csv)\n",
    "import seaborn as sns\n",
    "import matplotlib.pyplot as plt\n",
    "%matplotlib inline\n",
    "\n",
    "import os\n",
    "for dirname, _, filenames in os.walk('/kaggle/input'):\n",
    "    for filename in filenames:\n",
    "        print(os.path.join(dirname, filename))\n",
    "\n"
   ]
  },
  {
   "cell_type": "code",
   "execution_count": 3,
   "metadata": {},
   "outputs": [
    {
     "data": {
      "text/html": [
       "<div>\n",
       "<style scoped>\n",
       "    .dataframe tbody tr th:only-of-type {\n",
       "        vertical-align: middle;\n",
       "    }\n",
       "\n",
       "    .dataframe tbody tr th {\n",
       "        vertical-align: top;\n",
       "    }\n",
       "\n",
       "    .dataframe thead th {\n",
       "        text-align: right;\n",
       "    }\n",
       "</style>\n",
       "<table border=\"1\" class=\"dataframe\">\n",
       "  <thead>\n",
       "    <tr style=\"text-align: right;\">\n",
       "      <th></th>\n",
       "      <th>male</th>\n",
       "      <th>age</th>\n",
       "      <th>education</th>\n",
       "      <th>currentSmoker</th>\n",
       "      <th>cigsPerDay</th>\n",
       "      <th>BPMeds</th>\n",
       "      <th>prevalentStroke</th>\n",
       "      <th>prevalentHyp</th>\n",
       "      <th>diabetes</th>\n",
       "      <th>totChol</th>\n",
       "      <th>sysBP</th>\n",
       "      <th>diaBP</th>\n",
       "      <th>BMI</th>\n",
       "      <th>heartRate</th>\n",
       "      <th>glucose</th>\n",
       "      <th>TenYearCHD</th>\n",
       "    </tr>\n",
       "  </thead>\n",
       "  <tbody>\n",
       "    <tr>\n",
       "      <th>0</th>\n",
       "      <td>1</td>\n",
       "      <td>39</td>\n",
       "      <td>4.0</td>\n",
       "      <td>0</td>\n",
       "      <td>0.0</td>\n",
       "      <td>0.0</td>\n",
       "      <td>0</td>\n",
       "      <td>0</td>\n",
       "      <td>0</td>\n",
       "      <td>195.0</td>\n",
       "      <td>106.0</td>\n",
       "      <td>70.0</td>\n",
       "      <td>26.97</td>\n",
       "      <td>80.0</td>\n",
       "      <td>77.0</td>\n",
       "      <td>0</td>\n",
       "    </tr>\n",
       "    <tr>\n",
       "      <th>1</th>\n",
       "      <td>0</td>\n",
       "      <td>46</td>\n",
       "      <td>2.0</td>\n",
       "      <td>0</td>\n",
       "      <td>0.0</td>\n",
       "      <td>0.0</td>\n",
       "      <td>0</td>\n",
       "      <td>0</td>\n",
       "      <td>0</td>\n",
       "      <td>250.0</td>\n",
       "      <td>121.0</td>\n",
       "      <td>81.0</td>\n",
       "      <td>28.73</td>\n",
       "      <td>95.0</td>\n",
       "      <td>76.0</td>\n",
       "      <td>0</td>\n",
       "    </tr>\n",
       "    <tr>\n",
       "      <th>2</th>\n",
       "      <td>1</td>\n",
       "      <td>48</td>\n",
       "      <td>1.0</td>\n",
       "      <td>1</td>\n",
       "      <td>20.0</td>\n",
       "      <td>0.0</td>\n",
       "      <td>0</td>\n",
       "      <td>0</td>\n",
       "      <td>0</td>\n",
       "      <td>245.0</td>\n",
       "      <td>127.5</td>\n",
       "      <td>80.0</td>\n",
       "      <td>25.34</td>\n",
       "      <td>75.0</td>\n",
       "      <td>70.0</td>\n",
       "      <td>0</td>\n",
       "    </tr>\n",
       "    <tr>\n",
       "      <th>3</th>\n",
       "      <td>0</td>\n",
       "      <td>61</td>\n",
       "      <td>3.0</td>\n",
       "      <td>1</td>\n",
       "      <td>30.0</td>\n",
       "      <td>0.0</td>\n",
       "      <td>0</td>\n",
       "      <td>1</td>\n",
       "      <td>0</td>\n",
       "      <td>225.0</td>\n",
       "      <td>150.0</td>\n",
       "      <td>95.0</td>\n",
       "      <td>28.58</td>\n",
       "      <td>65.0</td>\n",
       "      <td>103.0</td>\n",
       "      <td>1</td>\n",
       "    </tr>\n",
       "    <tr>\n",
       "      <th>4</th>\n",
       "      <td>0</td>\n",
       "      <td>46</td>\n",
       "      <td>3.0</td>\n",
       "      <td>1</td>\n",
       "      <td>23.0</td>\n",
       "      <td>0.0</td>\n",
       "      <td>0</td>\n",
       "      <td>0</td>\n",
       "      <td>0</td>\n",
       "      <td>285.0</td>\n",
       "      <td>130.0</td>\n",
       "      <td>84.0</td>\n",
       "      <td>23.10</td>\n",
       "      <td>85.0</td>\n",
       "      <td>85.0</td>\n",
       "      <td>0</td>\n",
       "    </tr>\n",
       "  </tbody>\n",
       "</table>\n",
       "</div>"
      ],
      "text/plain": [
       "   male  age  education  currentSmoker  cigsPerDay  BPMeds  prevalentStroke  \\\n",
       "0     1   39        4.0              0         0.0     0.0                0   \n",
       "1     0   46        2.0              0         0.0     0.0                0   \n",
       "2     1   48        1.0              1        20.0     0.0                0   \n",
       "3     0   61        3.0              1        30.0     0.0                0   \n",
       "4     0   46        3.0              1        23.0     0.0                0   \n",
       "\n",
       "   prevalentHyp  diabetes  totChol  sysBP  diaBP    BMI  heartRate  glucose  \\\n",
       "0             0         0    195.0  106.0   70.0  26.97       80.0     77.0   \n",
       "1             0         0    250.0  121.0   81.0  28.73       95.0     76.0   \n",
       "2             0         0    245.0  127.5   80.0  25.34       75.0     70.0   \n",
       "3             1         0    225.0  150.0   95.0  28.58       65.0    103.0   \n",
       "4             0         0    285.0  130.0   84.0  23.10       85.0     85.0   \n",
       "\n",
       "   TenYearCHD  \n",
       "0           0  \n",
       "1           0  \n",
       "2           0  \n",
       "3           1  \n",
       "4           0  "
      ]
     },
     "execution_count": 3,
     "metadata": {},
     "output_type": "execute_result"
    }
   ],
   "source": [
    "df = pd.read_csv(\"/Users/ommukundushir/mllab_62/assignment_3/asssi3.csv\")\n",
    "df.head()"
   ]
  },
  {
   "cell_type": "code",
   "execution_count": 4,
   "metadata": {},
   "outputs": [
    {
     "data": {
      "text/plain": [
       "(4238, 16)"
      ]
     },
     "execution_count": 4,
     "metadata": {},
     "output_type": "execute_result"
    }
   ],
   "source": [
    "df.shape"
   ]
  },
  {
   "cell_type": "code",
   "execution_count": 5,
   "metadata": {},
   "outputs": [
    {
     "data": {
      "text/html": [
       "<div>\n",
       "<style scoped>\n",
       "    .dataframe tbody tr th:only-of-type {\n",
       "        vertical-align: middle;\n",
       "    }\n",
       "\n",
       "    .dataframe tbody tr th {\n",
       "        vertical-align: top;\n",
       "    }\n",
       "\n",
       "    .dataframe thead th {\n",
       "        text-align: right;\n",
       "    }\n",
       "</style>\n",
       "<table border=\"1\" class=\"dataframe\">\n",
       "  <thead>\n",
       "    <tr style=\"text-align: right;\">\n",
       "      <th></th>\n",
       "      <th>male</th>\n",
       "      <th>age</th>\n",
       "      <th>currentSmoker</th>\n",
       "      <th>cigsPerDay</th>\n",
       "      <th>BPMeds</th>\n",
       "      <th>prevalentStroke</th>\n",
       "      <th>prevalentHyp</th>\n",
       "      <th>diabetes</th>\n",
       "      <th>totChol</th>\n",
       "      <th>sysBP</th>\n",
       "      <th>diaBP</th>\n",
       "      <th>BMI</th>\n",
       "      <th>heartRate</th>\n",
       "      <th>glucose</th>\n",
       "      <th>TenYearCHD</th>\n",
       "    </tr>\n",
       "  </thead>\n",
       "  <tbody>\n",
       "    <tr>\n",
       "      <th>0</th>\n",
       "      <td>1</td>\n",
       "      <td>39</td>\n",
       "      <td>0</td>\n",
       "      <td>0.0</td>\n",
       "      <td>0.0</td>\n",
       "      <td>0</td>\n",
       "      <td>0</td>\n",
       "      <td>0</td>\n",
       "      <td>195.0</td>\n",
       "      <td>106.0</td>\n",
       "      <td>70.0</td>\n",
       "      <td>26.97</td>\n",
       "      <td>80.0</td>\n",
       "      <td>77.0</td>\n",
       "      <td>0</td>\n",
       "    </tr>\n",
       "    <tr>\n",
       "      <th>1</th>\n",
       "      <td>0</td>\n",
       "      <td>46</td>\n",
       "      <td>0</td>\n",
       "      <td>0.0</td>\n",
       "      <td>0.0</td>\n",
       "      <td>0</td>\n",
       "      <td>0</td>\n",
       "      <td>0</td>\n",
       "      <td>250.0</td>\n",
       "      <td>121.0</td>\n",
       "      <td>81.0</td>\n",
       "      <td>28.73</td>\n",
       "      <td>95.0</td>\n",
       "      <td>76.0</td>\n",
       "      <td>0</td>\n",
       "    </tr>\n",
       "  </tbody>\n",
       "</table>\n",
       "</div>"
      ],
      "text/plain": [
       "   male  age  currentSmoker  cigsPerDay  BPMeds  prevalentStroke  \\\n",
       "0     1   39              0         0.0     0.0                0   \n",
       "1     0   46              0         0.0     0.0                0   \n",
       "\n",
       "   prevalentHyp  diabetes  totChol  sysBP  diaBP    BMI  heartRate  glucose  \\\n",
       "0             0         0    195.0  106.0   70.0  26.97       80.0     77.0   \n",
       "1             0         0    250.0  121.0   81.0  28.73       95.0     76.0   \n",
       "\n",
       "   TenYearCHD  \n",
       "0           0  \n",
       "1           0  "
      ]
     },
     "execution_count": 5,
     "metadata": {},
     "output_type": "execute_result"
    }
   ],
   "source": [
    "df.drop(\"education\",axis=1,inplace=True)\n",
    "df.head(2)"
   ]
  },
  {
   "cell_type": "code",
   "execution_count": 6,
   "metadata": {},
   "outputs": [
    {
     "data": {
      "text/plain": [
       "male                 0\n",
       "age                  0\n",
       "currentSmoker        0\n",
       "cigsPerDay          29\n",
       "BPMeds              53\n",
       "prevalentStroke      0\n",
       "prevalentHyp         0\n",
       "diabetes             0\n",
       "totChol             50\n",
       "sysBP                0\n",
       "diaBP                0\n",
       "BMI                 19\n",
       "heartRate            1\n",
       "glucose            388\n",
       "TenYearCHD           0\n",
       "dtype: int64"
      ]
     },
     "execution_count": 6,
     "metadata": {},
     "output_type": "execute_result"
    }
   ],
   "source": [
    "df.isnull().sum()"
   ]
  },
  {
   "cell_type": "code",
   "execution_count": 7,
   "metadata": {},
   "outputs": [
    {
     "data": {
      "image/png": "[encoded data removed]",
      "text/plain": [
       "<Figure size 432x288 with 1 Axes>"
      ]
     },
     "metadata": {
      "needs_background": "light"
     },
     "output_type": "display_data"
    }
   ],
   "source": [
    "import seaborn as sns\n",
    "import matplotlib.pyplot as plt\n",
    "\n",
    "# Sample data\n",
    "data = df.cigsPerDay \n",
    "\n",
    "# Create a distribution plot\n",
    "sns.histplot(data, kde=True, color='blue')\n",
    "\n",
    "# Add labels and title\n",
    "plt.xlabel('cigsPerDay  Value')\n",
    "plt.ylabel('Frequency')\n",
    "plt.title('Distribution Plot')\n",
    "\n",
    "# Display the plot\n",
    "plt.show()\n"
   ]
  },
  {
   "cell_type": "code",
   "execution_count": 8,
   "metadata": {},
   "outputs": [
    {
     "name": "stdout",
     "output_type": "stream",
     "text": [
      "Median: 0.0\n"
     ]
    }
   ],
   "source": [
    "median_value_cigsPerDay = df['cigsPerDay'].median()\n",
    "\n",
    "print(\"Median:\", median_value_cigsPerDay)"
   ]
  },
  {
   "cell_type": "code",
   "execution_count": 9,
   "metadata": {},
   "outputs": [],
   "source": [
    "df['cigsPerDay'].fillna(median_value_cigsPerDay , inplace=True)"
   ]
  },
  {
   "cell_type": "code",
   "execution_count": 10,
   "metadata": {},
   "outputs": [
    {
     "data": {
      "image/png": "[encoded data removed]",
      "text/plain": [
       "<Figure size 432x288 with 1 Axes>"
      ]
     },
     "metadata": {
      "needs_background": "light"
     },
     "output_type": "display_data"
    }
   ],
   "source": [
    "data = df.BPMeds\n",
    "\n",
    "# Create a distribution plot\n",
    "sns.histplot(data, kde=True, color='blue')\n",
    "\n",
    "# Add labels and title\n",
    "plt.xlabel('BPMeds  Value')\n",
    "plt.ylabel('Frequency')\n",
    "plt.title('Distribution Plot')\n",
    "\n",
    "# Display the plot\n",
    "plt.show()"
   ]
  },
  {
   "cell_type": "code",
   "execution_count": 11,
   "metadata": {},
   "outputs": [],
   "source": [
    "df[\"BPMeds\"].fillna(0,inplace=True)"
   ]
  },
  {
   "cell_type": "code",
   "execution_count": 12,
   "metadata": {},
   "outputs": [
    {
     "data": {
      "text/plain": [
       "male                 0\n",
       "age                  0\n",
       "currentSmoker        0\n",
       "cigsPerDay           0\n",
       "BPMeds               0\n",
       "prevalentStroke      0\n",
       "prevalentHyp         0\n",
       "diabetes             0\n",
       "totChol             50\n",
       "sysBP                0\n",
       "diaBP                0\n",
       "BMI                 19\n",
       "heartRate            1\n",
       "glucose            388\n",
       "TenYearCHD           0\n",
       "dtype: int64"
      ]
     },
     "execution_count": 12,
     "metadata": {},
     "output_type": "execute_result"
    }
   ],
   "source": [
    "df.isnull().sum()"
   ]
  },
  {
   "cell_type": "code",
   "execution_count": 13,
   "metadata": {},
   "outputs": [
    {
     "data": {
      "image/png": "[encoded data removed]",
      "text/plain": [
       "<Figure size 432x288 with 1 Axes>"
      ]
     },
     "metadata": {
      "needs_background": "light"
     },
     "output_type": "display_data"
    }
   ],
   "source": [
    "data = df.totChol\n",
    "\n",
    "# Create a distribution plot\n",
    "sns.histplot(data, kde=True, color='blue')\n",
    "\n",
    "# Add labels and title\n",
    "plt.xlabel('totChol  Value')\n",
    "plt.ylabel('Frequency')\n",
    "plt.title('Distribution Plot')\n",
    "\n",
    "# Display the plot\n",
    "plt.show()"
   ]
  },
  {
   "cell_type": "code",
   "execution_count": 14,
   "metadata": {},
   "outputs": [
    {
     "name": "stdout",
     "output_type": "stream",
     "text": [
      "Mean: 236.72158548233045\n"
     ]
    }
   ],
   "source": [
    "mean_value = df['totChol'].mean()\n",
    "\n",
    "print(\"Mean:\", mean_value)"
   ]
  },
  {
   "cell_type": "code",
   "execution_count": 15,
   "metadata": {},
   "outputs": [],
   "source": [
    "df[\"totChol\"].fillna(mean_value,inplace=True)"
   ]
  },
  {
   "cell_type": "code",
   "execution_count": 16,
   "metadata": {},
   "outputs": [
    {
     "data": {
      "text/plain": [
       "male                 0\n",
       "age                  0\n",
       "currentSmoker        0\n",
       "cigsPerDay           0\n",
       "BPMeds               0\n",
       "prevalentStroke      0\n",
       "prevalentHyp         0\n",
       "diabetes             0\n",
       "totChol              0\n",
       "sysBP                0\n",
       "diaBP                0\n",
       "BMI                 19\n",
       "heartRate            0\n",
       "glucose            388\n",
       "TenYearCHD           0\n",
       "dtype: int64"
      ]
     },
     "execution_count": 16,
     "metadata": {},
     "output_type": "execute_result"
    }
   ],
   "source": [
    "mean_value = df['heartRate'].mean()\n",
    "\n",
    "df[\"heartRate\"].fillna(mean_value,inplace=True)\n",
    "df.isnull().sum()"
   ]
  },
  {
   "cell_type": "code",
   "execution_count": 17,
   "metadata": {},
   "outputs": [
    {
     "data": {
      "image/png": "[encoded data removed]",
      "text/plain": [
       "<Figure size 432x288 with 1 Axes>"
      ]
     },
     "metadata": {
      "needs_background": "light"
     },
     "output_type": "display_data"
    }
   ],
   "source": [
    "data = df.glucose\n",
    "\n",
    "# Create a distribution plot\n",
    "sns.histplot(data, kde=True, color='blue')\n",
    "\n",
    "# Add labels and title\n",
    "plt.xlabel('glucose  Value')\n",
    "plt.ylabel('Frequency')\n",
    "plt.title('Distribution Plot')\n",
    "\n",
    "# Display the plot\n",
    "plt.show()"
   ]
  },
  {
   "cell_type": "code",
   "execution_count": 18,
   "metadata": {},
   "outputs": [
    {
     "data": {
      "text/plain": [
       "(3836, 15)"
      ]
     },
     "execution_count": 18,
     "metadata": {},
     "output_type": "execute_result"
    }
   ],
   "source": [
    "df_cleaned = df.dropna(subset=['glucose','BMI'])\n",
    "df_cleaned.shape"
   ]
  },
  {
   "cell_type": "code",
   "execution_count": 19,
   "metadata": {},
   "outputs": [
    {
     "data": {
      "text/html": [
       "<div>\n",
       "<style scoped>\n",
       "    .dataframe tbody tr th:only-of-type {\n",
       "        vertical-align: middle;\n",
       "    }\n",
       "\n",
       "    .dataframe tbody tr th {\n",
       "        vertical-align: top;\n",
       "    }\n",
       "\n",
       "    .dataframe thead th {\n",
       "        text-align: right;\n",
       "    }\n",
       "</style>\n",
       "<table border=\"1\" class=\"dataframe\">\n",
       "  <thead>\n",
       "    <tr style=\"text-align: right;\">\n",
       "      <th></th>\n",
       "      <th>male</th>\n",
       "      <th>age</th>\n",
       "      <th>currentSmoker</th>\n",
       "      <th>cigsPerDay</th>\n",
       "      <th>BPMeds</th>\n",
       "      <th>prevalentStroke</th>\n",
       "      <th>prevalentHyp</th>\n",
       "      <th>diabetes</th>\n",
       "      <th>totChol</th>\n",
       "      <th>sysBP</th>\n",
       "      <th>diaBP</th>\n",
       "      <th>BMI</th>\n",
       "      <th>heartRate</th>\n",
       "      <th>glucose</th>\n",
       "      <th>TenYearCHD</th>\n",
       "    </tr>\n",
       "  </thead>\n",
       "  <tbody>\n",
       "    <tr>\n",
       "      <th>male</th>\n",
       "      <td>1.000000</td>\n",
       "      <td>-0.027869</td>\n",
       "      <td>0.203662</td>\n",
       "      <td>0.323644</td>\n",
       "      <td>-0.050969</td>\n",
       "      <td>-0.005171</td>\n",
       "      <td>-0.000055</td>\n",
       "      <td>0.012723</td>\n",
       "      <td>-0.072819</td>\n",
       "      <td>-0.047689</td>\n",
       "      <td>0.051553</td>\n",
       "      <td>0.075660</td>\n",
       "      <td>-0.116506</td>\n",
       "      <td>0.003202</td>\n",
       "      <td>0.091857</td>\n",
       "    </tr>\n",
       "    <tr>\n",
       "      <th>age</th>\n",
       "      <td>-0.027869</td>\n",
       "      <td>1.000000</td>\n",
       "      <td>-0.214074</td>\n",
       "      <td>-0.190689</td>\n",
       "      <td>0.128799</td>\n",
       "      <td>0.053946</td>\n",
       "      <td>0.307889</td>\n",
       "      <td>0.107786</td>\n",
       "      <td>0.262660</td>\n",
       "      <td>0.389572</td>\n",
       "      <td>0.202728</td>\n",
       "      <td>0.136039</td>\n",
       "      <td>-0.006484</td>\n",
       "      <td>0.120015</td>\n",
       "      <td>0.232019</td>\n",
       "    </tr>\n",
       "    <tr>\n",
       "      <th>currentSmoker</th>\n",
       "      <td>0.203662</td>\n",
       "      <td>-0.214074</td>\n",
       "      <td>1.000000</td>\n",
       "      <td>0.764173</td>\n",
       "      <td>-0.052082</td>\n",
       "      <td>-0.040047</td>\n",
       "      <td>-0.107502</td>\n",
       "      <td>-0.048326</td>\n",
       "      <td>-0.049271</td>\n",
       "      <td>-0.135983</td>\n",
       "      <td>-0.115680</td>\n",
       "      <td>-0.161747</td>\n",
       "      <td>0.055923</td>\n",
       "      <td>-0.055318</td>\n",
       "      <td>0.020070</td>\n",
       "    </tr>\n",
       "    <tr>\n",
       "      <th>cigsPerDay</th>\n",
       "      <td>0.323644</td>\n",
       "      <td>-0.190689</td>\n",
       "      <td>0.764173</td>\n",
       "      <td>1.000000</td>\n",
       "      <td>-0.045028</td>\n",
       "      <td>-0.036685</td>\n",
       "      <td>-0.068319</td>\n",
       "      <td>-0.040026</td>\n",
       "      <td>-0.031912</td>\n",
       "      <td>-0.094171</td>\n",
       "      <td>-0.059525</td>\n",
       "      <td>-0.092683</td>\n",
       "      <td>0.066996</td>\n",
       "      <td>-0.058672</td>\n",
       "      <td>0.056928</td>\n",
       "    </tr>\n",
       "    <tr>\n",
       "      <th>BPMeds</th>\n",
       "      <td>-0.050969</td>\n",
       "      <td>0.128799</td>\n",
       "      <td>-0.052082</td>\n",
       "      <td>-0.045028</td>\n",
       "      <td>1.000000</td>\n",
       "      <td>0.108688</td>\n",
       "      <td>0.259543</td>\n",
       "      <td>0.055858</td>\n",
       "      <td>0.087950</td>\n",
       "      <td>0.265513</td>\n",
       "      <td>0.196470</td>\n",
       "      <td>0.103831</td>\n",
       "      <td>0.009698</td>\n",
       "      <td>0.051760</td>\n",
       "      <td>0.083389</td>\n",
       "    </tr>\n",
       "    <tr>\n",
       "      <th>prevalentStroke</th>\n",
       "      <td>-0.005171</td>\n",
       "      <td>0.053946</td>\n",
       "      <td>-0.040047</td>\n",
       "      <td>-0.036685</td>\n",
       "      <td>0.108688</td>\n",
       "      <td>1.000000</td>\n",
       "      <td>0.067948</td>\n",
       "      <td>0.008578</td>\n",
       "      <td>0.015755</td>\n",
       "      <td>0.059887</td>\n",
       "      <td>0.047718</td>\n",
       "      <td>0.030591</td>\n",
       "      <td>-0.021460</td>\n",
       "      <td>0.024347</td>\n",
       "      <td>0.054021</td>\n",
       "    </tr>\n",
       "    <tr>\n",
       "      <th>prevalentHyp</th>\n",
       "      <td>-0.000055</td>\n",
       "      <td>0.307889</td>\n",
       "      <td>-0.107502</td>\n",
       "      <td>-0.068319</td>\n",
       "      <td>0.259543</td>\n",
       "      <td>0.067948</td>\n",
       "      <td>1.000000</td>\n",
       "      <td>0.081352</td>\n",
       "      <td>0.165972</td>\n",
       "      <td>0.700005</td>\n",
       "      <td>0.615759</td>\n",
       "      <td>0.301862</td>\n",
       "      <td>0.142728</td>\n",
       "      <td>0.085085</td>\n",
       "      <td>0.180465</td>\n",
       "    </tr>\n",
       "    <tr>\n",
       "      <th>diabetes</th>\n",
       "      <td>0.012723</td>\n",
       "      <td>0.107786</td>\n",
       "      <td>-0.048326</td>\n",
       "      <td>-0.040026</td>\n",
       "      <td>0.055858</td>\n",
       "      <td>0.008578</td>\n",
       "      <td>0.081352</td>\n",
       "      <td>1.000000</td>\n",
       "      <td>0.043028</td>\n",
       "      <td>0.106106</td>\n",
       "      <td>0.050306</td>\n",
       "      <td>0.096126</td>\n",
       "      <td>0.060920</td>\n",
       "      <td>0.613062</td>\n",
       "      <td>0.094012</td>\n",
       "    </tr>\n",
       "    <tr>\n",
       "      <th>totChol</th>\n",
       "      <td>-0.072819</td>\n",
       "      <td>0.262660</td>\n",
       "      <td>-0.049271</td>\n",
       "      <td>-0.031912</td>\n",
       "      <td>0.087950</td>\n",
       "      <td>0.015755</td>\n",
       "      <td>0.165972</td>\n",
       "      <td>0.043028</td>\n",
       "      <td>1.000000</td>\n",
       "      <td>0.214698</td>\n",
       "      <td>0.168091</td>\n",
       "      <td>0.113158</td>\n",
       "      <td>0.096577</td>\n",
       "      <td>0.046497</td>\n",
       "      <td>0.093905</td>\n",
       "    </tr>\n",
       "    <tr>\n",
       "      <th>sysBP</th>\n",
       "      <td>-0.047689</td>\n",
       "      <td>0.389572</td>\n",
       "      <td>-0.135983</td>\n",
       "      <td>-0.094171</td>\n",
       "      <td>0.265513</td>\n",
       "      <td>0.059887</td>\n",
       "      <td>0.700005</td>\n",
       "      <td>0.106106</td>\n",
       "      <td>0.214698</td>\n",
       "      <td>1.000000</td>\n",
       "      <td>0.784934</td>\n",
       "      <td>0.329101</td>\n",
       "      <td>0.182049</td>\n",
       "      <td>0.131752</td>\n",
       "      <td>0.220718</td>\n",
       "    </tr>\n",
       "    <tr>\n",
       "      <th>diaBP</th>\n",
       "      <td>0.051553</td>\n",
       "      <td>0.202728</td>\n",
       "      <td>-0.115680</td>\n",
       "      <td>-0.059525</td>\n",
       "      <td>0.196470</td>\n",
       "      <td>0.047718</td>\n",
       "      <td>0.615759</td>\n",
       "      <td>0.050306</td>\n",
       "      <td>0.168091</td>\n",
       "      <td>0.784934</td>\n",
       "      <td>1.000000</td>\n",
       "      <td>0.381750</td>\n",
       "      <td>0.177881</td>\n",
       "      <td>0.058671</td>\n",
       "      <td>0.146013</td>\n",
       "    </tr>\n",
       "    <tr>\n",
       "      <th>BMI</th>\n",
       "      <td>0.075660</td>\n",
       "      <td>0.136039</td>\n",
       "      <td>-0.161747</td>\n",
       "      <td>-0.092683</td>\n",
       "      <td>0.103831</td>\n",
       "      <td>0.030591</td>\n",
       "      <td>0.301862</td>\n",
       "      <td>0.096126</td>\n",
       "      <td>0.113158</td>\n",
       "      <td>0.329101</td>\n",
       "      <td>0.381750</td>\n",
       "      <td>1.000000</td>\n",
       "      <td>0.071651</td>\n",
       "      <td>0.087377</td>\n",
       "      <td>0.084705</td>\n",
       "    </tr>\n",
       "    <tr>\n",
       "      <th>heartRate</th>\n",
       "      <td>-0.116506</td>\n",
       "      <td>-0.006484</td>\n",
       "      <td>0.055923</td>\n",
       "      <td>0.066996</td>\n",
       "      <td>0.009698</td>\n",
       "      <td>-0.021460</td>\n",
       "      <td>0.142728</td>\n",
       "      <td>0.060920</td>\n",
       "      <td>0.096577</td>\n",
       "      <td>0.182049</td>\n",
       "      <td>0.177881</td>\n",
       "      <td>0.071651</td>\n",
       "      <td>1.000000</td>\n",
       "      <td>0.097031</td>\n",
       "      <td>0.021560</td>\n",
       "    </tr>\n",
       "    <tr>\n",
       "      <th>glucose</th>\n",
       "      <td>0.003202</td>\n",
       "      <td>0.120015</td>\n",
       "      <td>-0.055318</td>\n",
       "      <td>-0.058672</td>\n",
       "      <td>0.051760</td>\n",
       "      <td>0.024347</td>\n",
       "      <td>0.085085</td>\n",
       "      <td>0.613062</td>\n",
       "      <td>0.046497</td>\n",
       "      <td>0.131752</td>\n",
       "      <td>0.058671</td>\n",
       "      <td>0.087377</td>\n",
       "      <td>0.097031</td>\n",
       "      <td>1.000000</td>\n",
       "      <td>0.123324</td>\n",
       "    </tr>\n",
       "    <tr>\n",
       "      <th>TenYearCHD</th>\n",
       "      <td>0.091857</td>\n",
       "      <td>0.232019</td>\n",
       "      <td>0.020070</td>\n",
       "      <td>0.056928</td>\n",
       "      <td>0.083389</td>\n",
       "      <td>0.054021</td>\n",
       "      <td>0.180465</td>\n",
       "      <td>0.094012</td>\n",
       "      <td>0.093905</td>\n",
       "      <td>0.220718</td>\n",
       "      <td>0.146013</td>\n",
       "      <td>0.084705</td>\n",
       "      <td>0.021560</td>\n",
       "      <td>0.123324</td>\n",
       "      <td>1.000000</td>\n",
       "    </tr>\n",
       "  </tbody>\n",
       "</table>\n",
       "</div>"
      ],
      "text/plain": [
       "                     male       age  currentSmoker  cigsPerDay    BPMeds  \\\n",
       "male             1.000000 -0.027869       0.203662    0.323644 -0.050969   \n",
       "age             -0.027869  1.000000      -0.214074   -0.190689  0.128799   \n",
       "currentSmoker    0.203662 -0.214074       1.000000    0.764173 -0.052082   \n",
       "cigsPerDay       0.323644 -0.190689       0.764173    1.000000 -0.045028   \n",
       "BPMeds          -0.050969  0.128799      -0.052082   -0.045028  1.000000   \n",
       "prevalentStroke -0.005171  0.053946      -0.040047   -0.036685  0.108688   \n",
       "prevalentHyp    -0.000055  0.307889      -0.107502   -0.068319  0.259543   \n",
       "diabetes         0.012723  0.107786      -0.048326   -0.040026  0.055858   \n",
       "totChol         -0.072819  0.262660      -0.049271   -0.031912  0.087950   \n",
       "sysBP           -0.047689  0.389572      -0.135983   -0.094171  0.265513   \n",
       "diaBP            0.051553  0.202728      -0.115680   -0.059525  0.196470   \n",
       "BMI              0.075660  0.136039      -0.161747   -0.092683  0.103831   \n",
       "heartRate       -0.116506 -0.006484       0.055923    0.066996  0.009698   \n",
       "glucose          0.003202  0.120015      -0.055318   -0.058672  0.051760   \n",
       "TenYearCHD       0.091857  0.232019       0.020070    0.056928  0.083389   \n",
       "\n",
       "                 prevalentStroke  prevalentHyp  diabetes   totChol     sysBP  \\\n",
       "male                   -0.005171     -0.000055  0.012723 -0.072819 -0.047689   \n",
       "age                     0.053946      0.307889  0.107786  0.262660  0.389572   \n",
       "currentSmoker          -0.040047     -0.107502 -0.048326 -0.049271 -0.135983   \n",
       "cigsPerDay             -0.036685     -0.068319 -0.040026 -0.031912 -0.094171   \n",
       "BPMeds                  0.108688      0.259543  0.055858  0.087950  0.265513   \n",
       "prevalentStroke         1.000000      0.067948  0.008578  0.015755  0.059887   \n",
       "prevalentHyp            0.067948      1.000000  0.081352  0.165972  0.700005   \n",
       "diabetes                0.008578      0.081352  1.000000  0.043028  0.106106   \n",
       "totChol                 0.015755      0.165972  0.043028  1.000000  0.214698   \n",
       "sysBP                   0.059887      0.700005  0.106106  0.214698  1.000000   \n",
       "diaBP                   0.047718      0.615759  0.050306  0.168091  0.784934   \n",
       "BMI                     0.030591      0.301862  0.096126  0.113158  0.329101   \n",
       "heartRate              -0.021460      0.142728  0.060920  0.096577  0.182049   \n",
       "glucose                 0.024347      0.085085  0.613062  0.046497  0.131752   \n",
       "TenYearCHD              0.054021      0.180465  0.094012  0.093905  0.220718   \n",
       "\n",
       "                    diaBP       BMI  heartRate   glucose  TenYearCHD  \n",
       "male             0.051553  0.075660  -0.116506  0.003202    0.091857  \n",
       "age              0.202728  0.136039  -0.006484  0.120015    0.232019  \n",
       "currentSmoker   -0.115680 -0.161747   0.055923 -0.055318    0.020070  \n",
       "cigsPerDay      -0.059525 -0.092683   0.066996 -0.058672    0.056928  \n",
       "BPMeds           0.196470  0.103831   0.009698  0.051760    0.083389  \n",
       "prevalentStroke  0.047718  0.030591  -0.021460  0.024347    0.054021  \n",
       "prevalentHyp     0.615759  0.301862   0.142728  0.085085    0.180465  \n",
       "diabetes         0.050306  0.096126   0.060920  0.613062    0.094012  \n",
       "totChol          0.168091  0.113158   0.096577  0.046497    0.093905  \n",
       "sysBP            0.784934  0.329101   0.182049  0.131752    0.220718  \n",
       "diaBP            1.000000  0.381750   0.177881  0.058671    0.146013  \n",
       "BMI              0.381750  1.000000   0.071651  0.087377    0.084705  \n",
       "heartRate        0.177881  0.071651   1.000000  0.097031    0.021560  \n",
       "glucose          0.058671  0.087377   0.097031  1.000000    0.123324  \n",
       "TenYearCHD       0.146013  0.084705   0.021560  0.123324    1.000000  "
      ]
     },
     "execution_count": 19,
     "metadata": {},
     "output_type": "execute_result"
    }
   ],
   "source": [
    "correlation_matrix = df_cleaned.corr()\n",
    "correlation_matrix"
   ]
  },
  {
   "cell_type": "code",
   "execution_count": 20,
   "metadata": {},
   "outputs": [
    {
     "data": {
      "image/png": "[encoded data removed]",
      "text/plain": [
       "<Figure size 1008x576 with 2 Axes>"
      ]
     },
     "metadata": {
      "needs_background": "light"
     },
     "output_type": "display_data"
    }
   ],
   "source": [
    "plt.figure(figsize=(14, 8))\n",
    "sns.heatmap(correlation_matrix, annot=True, cmap='coolwarm', center=0)\n",
    "plt.title('Correlation Heatmap')\n",
    "plt.show()"
   ]
  },
  {
   "cell_type": "code",
   "execution_count": 21,
   "metadata": {},
   "outputs": [
    {
     "data": {
      "text/plain": [
       "(3836, 14)"
      ]
     },
     "execution_count": 21,
     "metadata": {},
     "output_type": "execute_result"
    }
   ],
   "source": [
    "df_cleaned2 = df_cleaned.drop(columns=['currentSmoker'])\n",
    "df_cleaned2.shape"
   ]
  },
  {
   "cell_type": "code",
   "execution_count": 22,
   "metadata": {},
   "outputs": [
    {
     "data": {
      "text/html": [
       "<div>\n",
       "<style scoped>\n",
       "    .dataframe tbody tr th:only-of-type {\n",
       "        vertical-align: middle;\n",
       "    }\n",
       "\n",
       "    .dataframe tbody tr th {\n",
       "        vertical-align: top;\n",
       "    }\n",
       "\n",
       "    .dataframe thead th {\n",
       "        text-align: right;\n",
       "    }\n",
       "</style>\n",
       "<table border=\"1\" class=\"dataframe\">\n",
       "  <thead>\n",
       "    <tr style=\"text-align: right;\">\n",
       "      <th></th>\n",
       "      <th>male</th>\n",
       "      <th>age</th>\n",
       "      <th>cigsPerDay</th>\n",
       "      <th>BPMeds</th>\n",
       "      <th>prevalentStroke</th>\n",
       "      <th>prevalentHyp</th>\n",
       "      <th>diabetes</th>\n",
       "      <th>totChol</th>\n",
       "      <th>sysBP</th>\n",
       "      <th>diaBP</th>\n",
       "      <th>BMI</th>\n",
       "      <th>heartRate</th>\n",
       "      <th>glucose</th>\n",
       "    </tr>\n",
       "  </thead>\n",
       "  <tbody>\n",
       "    <tr>\n",
       "      <th>0</th>\n",
       "      <td>1</td>\n",
       "      <td>39</td>\n",
       "      <td>0.0</td>\n",
       "      <td>0.0</td>\n",
       "      <td>0</td>\n",
       "      <td>0</td>\n",
       "      <td>0</td>\n",
       "      <td>195.0</td>\n",
       "      <td>106.0</td>\n",
       "      <td>70.0</td>\n",
       "      <td>26.97</td>\n",
       "      <td>80.0</td>\n",
       "      <td>77.0</td>\n",
       "    </tr>\n",
       "    <tr>\n",
       "      <th>1</th>\n",
       "      <td>0</td>\n",
       "      <td>46</td>\n",
       "      <td>0.0</td>\n",
       "      <td>0.0</td>\n",
       "      <td>0</td>\n",
       "      <td>0</td>\n",
       "      <td>0</td>\n",
       "      <td>250.0</td>\n",
       "      <td>121.0</td>\n",
       "      <td>81.0</td>\n",
       "      <td>28.73</td>\n",
       "      <td>95.0</td>\n",
       "      <td>76.0</td>\n",
       "    </tr>\n",
       "    <tr>\n",
       "      <th>2</th>\n",
       "      <td>1</td>\n",
       "      <td>48</td>\n",
       "      <td>20.0</td>\n",
       "      <td>0.0</td>\n",
       "      <td>0</td>\n",
       "      <td>0</td>\n",
       "      <td>0</td>\n",
       "      <td>245.0</td>\n",
       "      <td>127.5</td>\n",
       "      <td>80.0</td>\n",
       "      <td>25.34</td>\n",
       "      <td>75.0</td>\n",
       "      <td>70.0</td>\n",
       "    </tr>\n",
       "    <tr>\n",
       "      <th>3</th>\n",
       "      <td>0</td>\n",
       "      <td>61</td>\n",
       "      <td>30.0</td>\n",
       "      <td>0.0</td>\n",
       "      <td>0</td>\n",
       "      <td>1</td>\n",
       "      <td>0</td>\n",
       "      <td>225.0</td>\n",
       "      <td>150.0</td>\n",
       "      <td>95.0</td>\n",
       "      <td>28.58</td>\n",
       "      <td>65.0</td>\n",
       "      <td>103.0</td>\n",
       "    </tr>\n",
       "    <tr>\n",
       "      <th>4</th>\n",
       "      <td>0</td>\n",
       "      <td>46</td>\n",
       "      <td>23.0</td>\n",
       "      <td>0.0</td>\n",
       "      <td>0</td>\n",
       "      <td>0</td>\n",
       "      <td>0</td>\n",
       "      <td>285.0</td>\n",
       "      <td>130.0</td>\n",
       "      <td>84.0</td>\n",
       "      <td>23.10</td>\n",
       "      <td>85.0</td>\n",
       "      <td>85.0</td>\n",
       "    </tr>\n",
       "    <tr>\n",
       "      <th>...</th>\n",
       "      <td>...</td>\n",
       "      <td>...</td>\n",
       "      <td>...</td>\n",
       "      <td>...</td>\n",
       "      <td>...</td>\n",
       "      <td>...</td>\n",
       "      <td>...</td>\n",
       "      <td>...</td>\n",
       "      <td>...</td>\n",
       "      <td>...</td>\n",
       "      <td>...</td>\n",
       "      <td>...</td>\n",
       "      <td>...</td>\n",
       "    </tr>\n",
       "    <tr>\n",
       "      <th>4232</th>\n",
       "      <td>1</td>\n",
       "      <td>68</td>\n",
       "      <td>0.0</td>\n",
       "      <td>0.0</td>\n",
       "      <td>0</td>\n",
       "      <td>1</td>\n",
       "      <td>0</td>\n",
       "      <td>176.0</td>\n",
       "      <td>168.0</td>\n",
       "      <td>97.0</td>\n",
       "      <td>23.14</td>\n",
       "      <td>60.0</td>\n",
       "      <td>79.0</td>\n",
       "    </tr>\n",
       "    <tr>\n",
       "      <th>4233</th>\n",
       "      <td>1</td>\n",
       "      <td>50</td>\n",
       "      <td>1.0</td>\n",
       "      <td>0.0</td>\n",
       "      <td>0</td>\n",
       "      <td>1</td>\n",
       "      <td>0</td>\n",
       "      <td>313.0</td>\n",
       "      <td>179.0</td>\n",
       "      <td>92.0</td>\n",
       "      <td>25.97</td>\n",
       "      <td>66.0</td>\n",
       "      <td>86.0</td>\n",
       "    </tr>\n",
       "    <tr>\n",
       "      <th>4234</th>\n",
       "      <td>1</td>\n",
       "      <td>51</td>\n",
       "      <td>43.0</td>\n",
       "      <td>0.0</td>\n",
       "      <td>0</td>\n",
       "      <td>0</td>\n",
       "      <td>0</td>\n",
       "      <td>207.0</td>\n",
       "      <td>126.5</td>\n",
       "      <td>80.0</td>\n",
       "      <td>19.71</td>\n",
       "      <td>65.0</td>\n",
       "      <td>68.0</td>\n",
       "    </tr>\n",
       "    <tr>\n",
       "      <th>4235</th>\n",
       "      <td>0</td>\n",
       "      <td>48</td>\n",
       "      <td>20.0</td>\n",
       "      <td>0.0</td>\n",
       "      <td>0</td>\n",
       "      <td>0</td>\n",
       "      <td>0</td>\n",
       "      <td>248.0</td>\n",
       "      <td>131.0</td>\n",
       "      <td>72.0</td>\n",
       "      <td>22.00</td>\n",
       "      <td>84.0</td>\n",
       "      <td>86.0</td>\n",
       "    </tr>\n",
       "    <tr>\n",
       "      <th>4237</th>\n",
       "      <td>0</td>\n",
       "      <td>52</td>\n",
       "      <td>0.0</td>\n",
       "      <td>0.0</td>\n",
       "      <td>0</td>\n",
       "      <td>0</td>\n",
       "      <td>0</td>\n",
       "      <td>269.0</td>\n",
       "      <td>133.5</td>\n",
       "      <td>83.0</td>\n",
       "      <td>21.47</td>\n",
       "      <td>80.0</td>\n",
       "      <td>107.0</td>\n",
       "    </tr>\n",
       "  </tbody>\n",
       "</table>\n",
       "<p>3836 rows × 13 columns</p>\n",
       "</div>"
      ],
      "text/plain": [
       "      male  age  cigsPerDay  BPMeds  prevalentStroke  prevalentHyp  diabetes  \\\n",
       "0        1   39         0.0     0.0                0             0         0   \n",
       "1        0   46         0.0     0.0                0             0         0   \n",
       "2        1   48        20.0     0.0                0             0         0   \n",
       "3        0   61        30.0     0.0                0             1         0   \n",
       "4        0   46        23.0     0.0                0             0         0   \n",
       "...    ...  ...         ...     ...              ...           ...       ...   \n",
       "4232     1   68         0.0     0.0                0             1         0   \n",
       "4233     1   50         1.0     0.0                0             1         0   \n",
       "4234     1   51        43.0     0.0                0             0         0   \n",
       "4235     0   48        20.0     0.0                0             0         0   \n",
       "4237     0   52         0.0     0.0                0             0         0   \n",
       "\n",
       "      totChol  sysBP  diaBP    BMI  heartRate  glucose  \n",
       "0       195.0  106.0   70.0  26.97       80.0     77.0  \n",
       "1       250.0  121.0   81.0  28.73       95.0     76.0  \n",
       "2       245.0  127.5   80.0  25.34       75.0     70.0  \n",
       "3       225.0  150.0   95.0  28.58       65.0    103.0  \n",
       "4       285.0  130.0   84.0  23.10       85.0     85.0  \n",
       "...       ...    ...    ...    ...        ...      ...  \n",
       "4232    176.0  168.0   97.0  23.14       60.0     79.0  \n",
       "4233    313.0  179.0   92.0  25.97       66.0     86.0  \n",
       "4234    207.0  126.5   80.0  19.71       65.0     68.0  \n",
       "4235    248.0  131.0   72.0  22.00       84.0     86.0  \n",
       "4237    269.0  133.5   83.0  21.47       80.0    107.0  \n",
       "\n",
       "[3836 rows x 13 columns]"
      ]
     },
     "execution_count": 22,
     "metadata": {},
     "output_type": "execute_result"
    }
   ],
   "source": [
    "from sklearn.model_selection import train_test_split\n",
    "X = df_cleaned2.drop(columns=[\"TenYearCHD\"])\n",
    "y=df_cleaned2.TenYearCHD\n",
    "X"
   ]
  },
  {
   "cell_type": "code",
   "execution_count": 23,
   "metadata": {},
   "outputs": [],
   "source": [
    "X_train, X_test, y_train, y_test = train_test_split(X, y, test_size=0.2, random_state=42)"
   ]
  },
  {
   "cell_type": "code",
   "execution_count": 24,
   "metadata": {},
   "outputs": [],
   "source": [
    "from sklearn.preprocessing import StandardScaler\n",
    "from sklearn.linear_model import LogisticRegression\n",
    "from sklearn.metrics import accuracy_score"
   ]
  },
  {
   "cell_type": "code",
   "execution_count": 25,
   "metadata": {},
   "outputs": [],
   "source": [
    "scaler = StandardScaler()\n",
    "X_train_scaled = scaler.fit_transform(X_train)\n",
    "X_test_scaled = scaler.transform(X_test)"
   ]
  },
  {
   "cell_type": "code",
   "execution_count": 26,
   "metadata": {},
   "outputs": [
    {
     "data": {
      "text/plain": [
       "LogisticRegression()"
      ]
     },
     "execution_count": 26,
     "metadata": {},
     "output_type": "execute_result"
    }
   ],
   "source": [
    "logreg = LogisticRegression()\n",
    "logreg.fit(X_train_scaled, y_train)"
   ]
  },
  {
   "cell_type": "code",
   "execution_count": 27,
   "metadata": {},
   "outputs": [
    {
     "name": "stdout",
     "output_type": "stream",
     "text": [
      "Accuracy: 0.8489583333333334\n"
     ]
    }
   ],
   "source": [
    "y_pred = logreg.predict(X_test_scaled)\n",
    "accuracy = accuracy_score(y_test, y_pred)\n",
    "print(\"Accuracy:\", accuracy)"
   ]
  },
  {
   "cell_type": "code",
   "execution_count": 28,
   "metadata": {},
   "outputs": [],
   "source": [
    "from sklearn.metrics import confusion_matrix,accuracy_score,roc_curve,classification_report"
   ]
  },
  {
   "cell_type": "code",
   "execution_count": 29,
   "metadata": {},
   "outputs": [
    {
     "name": "stdout",
     "output_type": "stream",
     "text": [
      "              precision    recall  f1-score   support\n",
      "\n",
      "           0       0.85      1.00      0.92       644\n",
      "           1       0.90      0.07      0.13       124\n",
      "\n",
      "    accuracy                           0.85       768\n",
      "   macro avg       0.87      0.54      0.53       768\n",
      "weighted avg       0.86      0.85      0.79       768\n",
      "\n"
     ]
    }
   ],
   "source": [
    "print(classification_report(y_test,y_pred))"
   ]
  },
  {
   "cell_type": "code",
   "execution_count": 45,
   "metadata": {},
   "outputs": [
    {
     "data": {
      "image/png": "[encoded data removed]",
      "text/plain": [
       "<Figure size 432x288 with 2 Axes>"
      ]
     },
     "metadata": {
      "needs_background": "light"
     },
     "output_type": "display_data"
    }
   ],
   "source": [
    " \n",
    "sns.heatmap(cm,\n",
    "            annot=True,\n",
    "            fmt='g',\n",
    "            xticklabels=[''],\n",
    "            yticklabels=[''])\n",
    "plt.ylabel('Prediction', fontsize=13)\n",
    "plt.xlabel('Actual', fontsize=13)\n",
    "plt.title('Confusion Matrix', fontsize=17)\n",
    "plt.show()"
   ]
  },
  {
   "cell_type": "code",
   "execution_count": 38,
   "metadata": {},
   "outputs": [
    {
     "name": "stdout",
     "output_type": "stream",
     "text": [
      "[[643   1]\n",
      " [115   9]]\n"
     ]
    }
   ],
   "source": [
    "from sklearn.metrics import confusion_matrix\n",
    "confusion_matrix = confusion_matrix(y_test, y_pred)\n",
    "print(confusion_matrix)"
   ]
  },
  {
   "cell_type": "code",
   "execution_count": 39,
   "metadata": {},
   "outputs": [
    {
     "data": {
      "image/png": "[encoded data removed]",
      "text/plain": [
       "<Figure size 432x288 with 1 Axes>"
      ]
     },
     "metadata": {
      "needs_background": "light"
     },
     "output_type": "display_data"
    }
   ],
   "source": [
    "from sklearn.metrics import roc_auc_score\n",
    "from sklearn.metrics import roc_curve\n",
    "logit_roc_auc = roc_auc_score(y_test, logreg.predict(X_test))\n",
    "fpr, tpr, thresholds = roc_curve(y_test, logreg.predict_proba(X_test)[:,1])\n",
    "plt.figure()\n",
    "plt.plot(fpr, tpr, label='Logistic Regression (area = %0.2f)' % logit_roc_auc)\n",
    "plt.plot([0, 1], [0, 1],'r--')\n",
    "plt.xlim([0.0, 1.0])\n",
    "plt.ylim([0.0, 1.05])\n",
    "plt.xlabel('False Positive Rate')\n",
    "plt.ylabel('True Positive Rate')\n",
    "plt.title('Receiver operating characteristic')\n",
    "plt.legend(loc=\"lower right\")\n",
    "plt.savefig('Log_ROC')\n",
    "plt.show()"
   ]
  }
 ],
 "metadata": {
  "kernelspec": {
   "display_name": "base",
   "language": "python",
   "name": "python3"
  },
  "language_info": {
   "codemirror_mode": {
    "name": "ipython",
    "version": 3
   },
   "file_extension": ".py",
   "mimetype": "text/x-python",
   "name": "python",
   "nbconvert_exporter": "python",
   "pygments_lexer": "ipython3",
   "version": "3.9.7"
  }
 },
 "nbformat": 4,
 "nbformat_minor": 2
}
